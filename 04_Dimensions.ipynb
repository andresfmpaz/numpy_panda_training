{
 "cells": [
  {
   "cell_type": "code",
   "execution_count": 1,
   "metadata": {},
   "outputs": [],
   "source": [
    "import numpy as np"
   ]
  },
  {
   "cell_type": "code",
   "execution_count": 3,
   "metadata": {},
   "outputs": [
    {
     "name": "stdout",
     "output_type": "stream",
     "text": [
      "42\n"
     ]
    },
    {
     "data": {
      "text/plain": [
       "0"
      ]
     },
     "execution_count": 3,
     "metadata": {},
     "output_type": "execute_result"
    }
   ],
   "source": [
    "scalar = np.array(42)\n",
    "print(scalar)\n",
    "scalar.ndim"
   ]
  },
  {
   "cell_type": "code",
   "execution_count": 4,
   "metadata": {},
   "outputs": [
    {
     "name": "stdout",
     "output_type": "stream",
     "text": [
      "[42  3  3  5  6]\n"
     ]
    },
    {
     "data": {
      "text/plain": [
       "1"
      ]
     },
     "execution_count": 4,
     "metadata": {},
     "output_type": "execute_result"
    }
   ],
   "source": [
    "vector = np.array([42,3,3 ,5,6])\n",
    "print(vector)\n",
    "vector.ndim"
   ]
  },
  {
   "cell_type": "code",
   "execution_count": 8,
   "metadata": {},
   "outputs": [
    {
     "name": "stdout",
     "output_type": "stream",
     "text": [
      "[[42  3  3  5  6]\n",
      " [ 4 13 23 35  7]]\n"
     ]
    },
    {
     "data": {
      "text/plain": [
       "2"
      ]
     },
     "execution_count": 8,
     "metadata": {},
     "output_type": "execute_result"
    }
   ],
   "source": [
    "matrix = np.array([[42,3,3 ,5,6],[4,13,23 ,35, 7]])\n",
    "print(matrix)\n",
    "matrix.ndim"
   ]
  },
  {
   "cell_type": "markdown",
   "metadata": {},
   "source": [
    "tensor 3d\n"
   ]
  },
  {
   "cell_type": "code",
   "execution_count": 25,
   "metadata": {},
   "outputs": [
    {
     "name": "stdout",
     "output_type": "stream",
     "text": [
      "[[[11  3  3  5  6]\n",
      "  [22 13 23 35  7]]\n",
      "\n",
      " [[21  2  3  5  6]\n",
      "  [22 13 23 35  7]]\n",
      "\n",
      " [[31  3  3  5  6]\n",
      "  [32 13 23 35  7]]\n",
      "\n",
      " [[41  3  3  5  6]\n",
      "  [42 13 23 35  7]]]\n"
     ]
    },
    {
     "data": {
      "text/plain": [
       "3"
      ]
     },
     "execution_count": 25,
     "metadata": {},
     "output_type": "execute_result"
    }
   ],
   "source": [
    "tensor_3 = np.array([[[11,3,3 ,5,6],[22,13,23 ,35, 7]],[[21,2,3 ,5,6],[22,13,23 ,35, 7]],[[31,3,3 ,5,6],[32,13,23 ,35, 7]],[[41,3,3 ,5,6],[42,13,23 ,35, 7]]])\n",
    "print(tensor_3)\n",
    "tensor_3.ndim"
   ]
  },
  {
   "cell_type": "code",
   "execution_count": 32,
   "metadata": {},
   "outputs": [
    {
     "data": {
      "text/plain": [
       "35"
      ]
     },
     "execution_count": 32,
     "metadata": {},
     "output_type": "execute_result"
    }
   ],
   "source": [
    "tensor_3[1,1,3]"
   ]
  },
  {
   "cell_type": "markdown",
   "metadata": {},
   "source": [
    "tensor_4d "
   ]
  },
  {
   "cell_type": "code",
   "execution_count": 33,
   "metadata": {},
   "outputs": [
    {
     "name": "stdout",
     "output_type": "stream",
     "text": [
      "[[[[11  3  3  5  6]\n",
      "   [22 13 23 35  7]]\n",
      "\n",
      "  [[21  2  3  5  6]\n",
      "   [22 13 23 35  7]]\n",
      "\n",
      "  [[31  3  3  5  6]\n",
      "   [32 13 23 35  7]]\n",
      "\n",
      "  [[41  3  3  5  6]\n",
      "   [42 13 23 35  7]]\n",
      "\n",
      "  [[11  3  3  5  6]\n",
      "   [22 13 23 35  7]]\n",
      "\n",
      "  [[21  2  3  5  6]\n",
      "   [22 13 23 35  7]]\n",
      "\n",
      "  [[31  3  3  5  6]\n",
      "   [32 13 23 35  7]]\n",
      "\n",
      "  [[41  3  3  5  6]\n",
      "   [42 13 23 35  7]]]]\n"
     ]
    },
    {
     "data": {
      "text/plain": [
       "4"
      ]
     },
     "execution_count": 33,
     "metadata": {},
     "output_type": "execute_result"
    }
   ],
   "source": [
    "tensor_4 = np.array([[[[11,3,3 ,5,6],[22,13,23 ,35, 7]],[[21,2,3 ,5,6],[22,13,23 ,35, 7]],[[31,3,3 ,5,6],[32,13,23 ,35, 7]],[[41,3,3 ,5,6],[42,13,23 ,35, 7]],[[11,3,3 ,5,6],[22,13,23 ,35, 7]],[[21,2,3 ,5,6],[22,13,23 ,35, 7]],[[31,3,3 ,5,6],[32,13,23 ,35, 7]],[[41,3,3 ,5,6],[42,13,23 ,35, 7]]]])\n",
    "print(tensor_4)\n",
    "tensor_4.ndim"
   ]
  },
  {
   "cell_type": "code",
   "execution_count": 36,
   "metadata": {},
   "outputs": [
    {
     "data": {
      "text/plain": [
       "array([[[11,  3,  3,  5,  6],\n",
       "        [22, 13, 23, 35,  7]],\n",
       "\n",
       "       [[21,  2,  3,  5,  6],\n",
       "        [22, 13, 23, 35,  7]],\n",
       "\n",
       "       [[31,  3,  3,  5,  6],\n",
       "        [32, 13, 23, 35,  7]],\n",
       "\n",
       "       [[41,  3,  3,  5,  6],\n",
       "        [42, 13, 23, 35,  7]],\n",
       "\n",
       "       [[11,  3,  3,  5,  6],\n",
       "        [22, 13, 23, 35,  7]],\n",
       "\n",
       "       [[21,  2,  3,  5,  6],\n",
       "        [22, 13, 23, 35,  7]],\n",
       "\n",
       "       [[31,  3,  3,  5,  6],\n",
       "        [32, 13, 23, 35,  7]],\n",
       "\n",
       "       [[41,  3,  3,  5,  6],\n",
       "        [42, 13, 23, 35,  7]]])"
      ]
     },
     "execution_count": 36,
     "metadata": {},
     "output_type": "execute_result"
    }
   ],
   "source": [
    "tensor_4[0]"
   ]
  },
  {
   "cell_type": "markdown",
   "metadata": {},
   "source": [
    "add or delete dimensions\n"
   ]
  },
  {
   "cell_type": "code",
   "execution_count": 40,
   "metadata": {},
   "outputs": [
    {
     "name": "stdout",
     "output_type": "stream",
     "text": [
      "[[[[[[[[[[42  3  3  5  6]]]]]]]]]]\n"
     ]
    },
    {
     "data": {
      "text/plain": [
       "10"
      ]
     },
     "execution_count": 40,
     "metadata": {},
     "output_type": "execute_result"
    }
   ],
   "source": [
    "tensor_10 = np.array([42,3,3 ,5,6],ndmin = 10)\n",
    "print(tensor_10)\n",
    "tensor_10.ndim"
   ]
  },
  {
   "cell_type": "markdown",
   "metadata": {},
   "source": [
    "axis = 0 dimentions in rows\n",
    "axis = 1 dimentions in columns"
   ]
  },
  {
   "cell_type": "code",
   "execution_count": 41,
   "metadata": {},
   "outputs": [
    {
     "name": "stdout",
     "output_type": "stream",
     "text": [
      "[[42  3  3  5  6]]\n"
     ]
    },
    {
     "data": {
      "text/plain": [
       "2"
      ]
     },
     "execution_count": 41,
     "metadata": {},
     "output_type": "execute_result"
    }
   ],
   "source": [
    "expand = np.expand_dims(np.array([42,3,3 ,5,6]), axis = 0)\n",
    "print(expand)\n",
    "expand.ndim"
   ]
  },
  {
   "cell_type": "markdown",
   "metadata": {},
   "source": [
    "if we want eleminate all dimensions we are not using so far let see "
   ]
  },
  {
   "cell_type": "code",
   "execution_count": 42,
   "metadata": {},
   "outputs": [
    {
     "name": "stdout",
     "output_type": "stream",
     "text": [
      "[[[[[[[[[[42  3  3  5  6]]]]]]]]]] 10\n",
      "[42  3  3  5  6] 1\n"
     ]
    }
   ],
   "source": [
    "print(tensor_10, tensor_10.ndim)\n",
    "vector_n = np.squeeze(tensor_10)\n",
    "print(vector_n, vector_n.ndim)"
   ]
  },
  {
   "cell_type": "markdown",
   "metadata": {},
   "source": [
    "example, lets remember how to expands \n",
    "axis = 0 dimentions in rows\n",
    "axis = 1 dimentions in columns"
   ]
  },
  {
   "cell_type": "code",
   "execution_count": 51,
   "metadata": {},
   "outputs": [
    {
     "name": "stdout",
     "output_type": "stream",
     "text": [
      "matrix 1  [[0 1 2 3 4]]\n",
      "exp_mtx1  [[[0 1 2 3 4]]]\n",
      "tensor7 ->  [[[[[[[0 1 2 3 4]]]]]]] dimension  7\n",
      "exp_tnsr7  [[[[[[[[0 1 2 3 4]]]]]]]]  dimension number  8\n",
      "excuting squeeze to exp_tnsr7  [0 1 2 3 4] 1\n"
     ]
    }
   ],
   "source": [
    "matrix_1 = np.array([0,1,2 ,3,4],ndmin = 2)\n",
    "print('matrix 1 ',matrix_1)\n",
    "exp_mtx1 = np.expand_dims(np.array(matrix_1), axis = 0)\n",
    "print('exp_mtx1 ',exp_mtx1)\n",
    "tensor_7 = np.array([0,1,2 ,3,4],ndmin = 7)\n",
    "print('tensor7 -> ',tensor_7, 'dimension ', tensor_7.ndim)\n",
    "\n",
    "exp_tnsr7 = np.expand_dims(np.array(tensor_7), axis = 1)\n",
    "print('exp_tnsr7 ',exp_tnsr7,' dimension number ', exp_tnsr7.ndim)\n",
    "vector_x = np.squeeze(exp_tnsr7)\n",
    "print('excuting squeeze to exp_tnsr7 ',vector_x, vector_x.ndim)"
   ]
  }
 ],
 "metadata": {
  "kernelspec": {
   "display_name": "nm_pd_venv",
   "language": "python",
   "name": "python3"
  },
  "language_info": {
   "codemirror_mode": {
    "name": "ipython",
    "version": 3
   },
   "file_extension": ".py",
   "mimetype": "text/x-python",
   "name": "python",
   "nbconvert_exporter": "python",
   "pygments_lexer": "ipython3",
   "version": "3.12.3"
  },
  "orig_nbformat": 4
 },
 "nbformat": 4,
 "nbformat_minor": 2
}
